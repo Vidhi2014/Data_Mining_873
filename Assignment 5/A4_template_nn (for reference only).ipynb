{
 "cells": [
  {
   "cell_type": "code",
   "execution_count": 1,
   "metadata": {
    "id": "BEur8cLCR1Zk"
   },
   "outputs": [],
   "source": [
    "import os\n",
    "\n",
    "import os\n",
    "os.environ[\"CUDA_DEVICE_ORDER\"]=\"PCI_BUS_ID\"   # see issue #152\n",
    "os.environ[\"CUDA_VISIBLE_DEVICES\"]=\"3\"\n",
    "\n",
    "import pandas as pd\n",
    "from tqdm.notebook import tqdm\n",
    "from PIL import Image\n",
    "import pandas as pd\n",
    "import os\n",
    "import numpy as np\n",
    "\n",
    "xy_train_df = pd.read_csv('train_xy.csv')\n",
    "x_test_df = pd.read_csv('test_x.csv')"
   ]
  },
  {
   "cell_type": "code",
   "execution_count": 2,
   "metadata": {
    "colab": {
     "base_uri": "https://localhost:8080/"
    },
    "id": "1z3FEfYsR1Zm",
    "outputId": "5cb7fa2b-bdf7-478c-a6df-71db64117859"
   },
   "outputs": [
    {
     "name": "stdout",
     "output_type": "stream",
     "text": [
      "unique values for price category 3 [1 0 2]\n",
      "(6101,)\n",
      "(1526,)\n",
      "(6101,)\n",
      "(1526,)\n"
     ]
    }
   ],
   "source": [
    "from sklearn.model_selection import train_test_split\n",
    "\n",
    "# loading summary: (force convert some of the non-string cell to string)\n",
    "x_text = xy_train_df.summary.astype('str')\n",
    "\n",
    "# labels:\n",
    "y_price = xy_train_df.price\n",
    "\n",
    "len_price = len(y_price.unique())\n",
    "print('unique values for price category', len_price, y_price.unique())\n",
    "\n",
    "# splitting:\n",
    "\n",
    "x_tr_text, x_vl_text, y_tr_price, y_vl_price = train_test_split(\n",
    "    x_text,\n",
    "    y_price,\n",
    "    test_size=0.2)\n",
    "\n",
    "print(np.shape(x_tr_text))\n",
    "print(np.shape(x_vl_text))\n",
    "print(np.shape(y_tr_price))\n",
    "print(np.shape(y_vl_price))"
   ]
  },
  {
   "cell_type": "code",
   "execution_count": 3,
   "metadata": {
    "colab": {
     "base_uri": "https://localhost:8080/"
    },
    "id": "Xh70MnCDR1Zm",
    "outputId": "78b82e49-0bf3-4a35-b848-bfef4bfadaff"
   },
   "outputs": [
    {
     "name": "stdout",
     "output_type": "stream",
     "text": [
      "(6101, 100)\n",
      "(1526, 100)\n"
     ]
    }
   ],
   "source": [
    "# preprocess text data\n",
    "\n",
    "from tensorflow.keras.preprocessing.text import Tokenizer\n",
    "from tensorflow.keras.preprocessing.sequence import pad_sequences\n",
    "from sklearn.model_selection import train_test_split\n",
    "from pprint import pprint\n",
    "\n",
    "vocab_size = 40000\n",
    "max_len = 100\n",
    "\n",
    "\n",
    "# build vocabulary from training set\n",
    "tokenizer = Tokenizer(num_words=vocab_size)\n",
    "tokenizer.fit_on_texts(x_tr_text)\n",
    "\n",
    "\n",
    "def _preprocess(list_of_text):\n",
    "    return pad_sequences(\n",
    "        tokenizer.texts_to_sequences(list_of_text),\n",
    "        maxlen=max_len,\n",
    "        padding='post',\n",
    "    )\n",
    "    \n",
    "\n",
    "# padding is done inside: \n",
    "x_tr_text_id = _preprocess(x_tr_text)\n",
    "x_vl_text_id = _preprocess(x_vl_text)\n",
    "\n",
    "print(x_tr_text_id.shape)\n",
    "print(x_vl_text_id.shape)"
   ]
  },
  {
   "cell_type": "code",
   "execution_count": 4,
   "metadata": {
    "colab": {
     "base_uri": "https://localhost:8080/"
    },
    "id": "p5E5zYSiR1Zm",
    "outputId": "251efb34-8937-4def-9447-e3fe8c845fd3"
   },
   "outputs": [
    {
     "name": "stdout",
     "output_type": "stream",
     "text": [
      "['we are two latin friends pablo and daniel good vibes living together animal '\n",
      " \"and gay friendly it's probably you see 2 cats and 1 dog in the case you're \"\n",
      " 'alergic to them but anyway they are at home each 2 weeks there is a small '\n",
      " 'kitchen bathroom and the others 2 rooms occupied for us we like to share '\n",
      " 'talk and know about the experiences of the travelers we receive in english '\n",
      " 'french spanish',\n",
      " 'magnificent condo located on the 23rd floor of tour des canadiens this '\n",
      " 'luxurious condo offers a stunning east side view of montreal there is direct '\n",
      " 'acces to lucien allier subway station and the bell center condo is located '\n",
      " 'within walking distance to the bonaventure subway station windsor train '\n",
      " 'station ste catherine street old montreal notre dame basilica and queen '\n",
      " 'marie of the world cathedral mcgill and concordia universities and a variety '\n",
      " 'of shops movie theaters fine dining',\n",
      " 'this apartment bright and modernly decorated is located near several '\n",
      " 'services and is a 10 minute walk from the jarry metro this unit includes a '\n",
      " 'kitchen dining room living room with a sofa bed a bedroom and a bathroom '\n",
      " 'with a glass shower free parking on the street cleanliness and respect are a '\n",
      " 'must for this location it is the perfect and practical place to stay to '\n",
      " 'visit the metropolis',\n",
      " 'before reserving the room study rules of placement we have 5 rooms of '\n",
      " 'different type at everyone the interior and the price we have duplex to 3 '\n",
      " 'floors at the disposal of guests 2 bathrooms one on the 2nd floor and one on '\n",
      " 'the 3rd floor 4 rooms of our hotel are located on the 3rd floor 1 room on 2 '\n",
      " 'also there is a free parking for 2 cars',\n",
      " 'a beautiful well lit condo in the milton parc neighborhood of plateau mont '\n",
      " 'royal on the top floor of a victorian greystone perfect for a workation this '\n",
      " 'condo is equipped with all the amenities to work from home and is steps away '\n",
      " 'from shops restaurants and major attractions']\n"
     ]
    }
   ],
   "source": [
    "pprint(tokenizer.sequences_to_texts(x_tr_text_id[:5]))"
   ]
  },
  {
   "cell_type": "code",
   "execution_count": 5,
   "metadata": {
    "colab": {
     "base_uri": "https://localhost:8080/"
    },
    "id": "75tmwBWAR1Zm",
    "outputId": "b8112f5f-d12e-4ec2-f779-04cb38850d5f"
   },
   "outputs": [
    {
     "name": "stdout",
     "output_type": "stream",
     "text": [
      "total words in the dictionary: 40000\n"
     ]
    }
   ],
   "source": [
    "print('total words in the dictionary:', tokenizer.num_words)"
   ]
  },
  {
   "cell_type": "code",
   "execution_count": 6,
   "metadata": {
    "colab": {
     "base_uri": "https://localhost:8080/"
    },
    "id": "_QkkRmqYR1Zm",
    "outputId": "f7bc4efb-5993-4507-ecec-69f4f8eb6389"
   },
   "outputs": [
    {
     "name": "stdout",
     "output_type": "stream",
     "text": [
      "Model: \"model\"\n",
      "_________________________________________________________________\n",
      "Layer (type)                 Output Shape              Param #   \n",
      "=================================================================\n",
      "input_1 (InputLayer)         [(None, 100)]             0         \n",
      "_________________________________________________________________\n",
      "embedding (Embedding)        (None, 100, 100)          4000000   \n",
      "_________________________________________________________________\n",
      "gru (GRU)                    (None, 32)                12864     \n",
      "_________________________________________________________________\n",
      "dense (Dense)                (None, 3)                 99        \n",
      "=================================================================\n",
      "Total params: 4,012,963\n",
      "Trainable params: 4,012,963\n",
      "Non-trainable params: 0\n",
      "_________________________________________________________________\n"
     ]
    },
    {
     "name": "stderr",
     "output_type": "stream",
     "text": [
      "2022-11-04 21:11:45.752816: I tensorflow/core/platform/cpu_feature_guard.cc:142] This TensorFlow binary is optimized with oneAPI Deep Neural Network Library (oneDNN) to use the following CPU instructions in performance-critical operations:  AVX2 AVX512F FMA\n",
      "To enable them in other operations, rebuild TensorFlow with the appropriate compiler flags.\n",
      "2022-11-04 21:11:46.441592: I tensorflow/core/common_runtime/gpu/gpu_device.cc:1510] Created device /job:localhost/replica:0/task:0/device:GPU:0 with 21015 MB memory:  -> device: 0, name: Quadro RTX 6000, pci bus id: 0000:3e:00.0, compute capability: 7.5\n"
     ]
    }
   ],
   "source": [
    "from __future__ import absolute_import, division, print_function, unicode_literals\n",
    "import collections\n",
    "import matplotlib.pyplot as plt\n",
    "import numpy as np\n",
    "import tensorflow as tf\n",
    "from tensorflow import keras\n",
    "from tensorflow.keras.layers import Conv2D, Flatten, Dense, MaxPool2D, GRU\n",
    "from tensorflow.keras.optimizers import Adam\n",
    "\n",
    "in_text = keras.Input(batch_shape=(None, max_len))\n",
    "\n",
    "# text part\n",
    "embedded = keras.layers.Embedding(tokenizer.num_words, 100)(in_text)\n",
    "z = GRU(32)(embedded)\n",
    "\n",
    "\n",
    "# multi-objectives (each is a multi-class classification)\n",
    "p_price = Dense(len_price, activation='softmax')(z)\n",
    "\n",
    "\n",
    "model = keras.Model(\n",
    "    inputs=in_text,\n",
    "    outputs=p_price,\n",
    ")\n",
    "\n",
    "\n",
    "model.compile(\n",
    "    optimizer=Adam(),\n",
    "    loss='sparse_categorical_crossentropy',\n",
    "    metrics='SparseCategoricalAccuracy',\n",
    ")\n",
    "\n",
    "\n",
    "model.summary()"
   ]
  },
  {
   "cell_type": "code",
   "execution_count": 7,
   "metadata": {
    "colab": {
     "base_uri": "https://localhost:8080/"
    },
    "id": "lyVFF4LTR1Zm",
    "outputId": "66daad91-8ddd-48f7-95c2-69acd9c838d0"
   },
   "outputs": [
    {
     "name": "stdout",
     "output_type": "stream",
     "text": [
      "Epoch 1/20\n"
     ]
    },
    {
     "name": "stderr",
     "output_type": "stream",
     "text": [
      "2022-11-04 21:11:47.058899: I tensorflow/compiler/mlir/mlir_graph_optimization_pass.cc:185] None of the MLIR Optimization Passes are enabled (registered 2)\n",
      "2022-11-04 21:11:49.131672: I tensorflow/stream_executor/cuda/cuda_dnn.cc:369] Loaded cuDNN version 8101\n"
     ]
    },
    {
     "name": "stdout",
     "output_type": "stream",
     "text": [
      "382/382 [==============================] - 6s 8ms/step - loss: 0.8491 - sparse_categorical_accuracy: 0.6171 - val_loss: 0.8356 - val_sparse_categorical_accuracy: 0.6271\n",
      "Epoch 2/20\n",
      "382/382 [==============================] - 3s 7ms/step - loss: 0.8373 - sparse_categorical_accuracy: 0.6196 - val_loss: 0.8327 - val_sparse_categorical_accuracy: 0.6271\n",
      "Epoch 3/20\n",
      "382/382 [==============================] - 3s 7ms/step - loss: 0.7788 - sparse_categorical_accuracy: 0.6468 - val_loss: 0.7965 - val_sparse_categorical_accuracy: 0.6356\n",
      "Epoch 4/20\n",
      "382/382 [==============================] - 3s 7ms/step - loss: 0.6174 - sparse_categorical_accuracy: 0.7484 - val_loss: 0.8435 - val_sparse_categorical_accuracy: 0.6212\n",
      "Epoch 5/20\n",
      "382/382 [==============================] - 3s 7ms/step - loss: 0.4763 - sparse_categorical_accuracy: 0.8194 - val_loss: 0.9221 - val_sparse_categorical_accuracy: 0.6252\n",
      "Epoch 6/20\n",
      "382/382 [==============================] - 3s 7ms/step - loss: 0.3829 - sparse_categorical_accuracy: 0.8610 - val_loss: 1.1145 - val_sparse_categorical_accuracy: 0.6284\n",
      "Epoch 7/20\n",
      "382/382 [==============================] - 3s 7ms/step - loss: 0.3201 - sparse_categorical_accuracy: 0.8813 - val_loss: 1.2318 - val_sparse_categorical_accuracy: 0.6337\n",
      "Epoch 8/20\n",
      "382/382 [==============================] - 3s 7ms/step - loss: 0.2780 - sparse_categorical_accuracy: 0.8940 - val_loss: 1.2552 - val_sparse_categorical_accuracy: 0.6258\n"
     ]
    }
   ],
   "source": [
    "history = model.fit(\n",
    "    x=x_tr_text_id,\n",
    "    y=y_tr_price,\n",
    "    epochs=20,\n",
    "    batch_size=16,\n",
    "    validation_data=(x_vl_text_id, y_vl_price),\n",
    "    callbacks=[\n",
    "        tf.keras.callbacks.EarlyStopping(monitor='val_loss', patience=5, )\n",
    "    ],\n",
    "    verbose=1\n",
    ")"
   ]
  },
  {
   "cell_type": "code",
   "execution_count": null,
   "metadata": {
    "id": "eHUXFXX5R1Zm"
   },
   "outputs": [],
   "source": []
  }
 ],
 "metadata": {
  "accelerator": "GPU",
  "colab": {
   "collapsed_sections": [],
   "name": "A4_template_nn.ipynb",
   "provenance": []
  },
  "kernelspec": {
   "display_name": "Python 3 (ipykernel)",
   "language": "python",
   "name": "python3"
  },
  "language_info": {
   "codemirror_mode": {
    "name": "ipython",
    "version": 3
   },
   "file_extension": ".py",
   "mimetype": "text/x-python",
   "name": "python",
   "nbconvert_exporter": "python",
   "pygments_lexer": "ipython3",
   "version": "3.9.10"
  },
  "widgets": {
   "application/vnd.jupyter.widget-state+json": {
    "05e4f892aa7043299e8675bf2329eb2c": {
     "model_module": "@jupyter-widgets/base",
     "model_name": "LayoutModel",
     "state": {
      "_model_module": "@jupyter-widgets/base",
      "_model_module_version": "1.2.0",
      "_model_name": "LayoutModel",
      "_view_count": null,
      "_view_module": "@jupyter-widgets/base",
      "_view_module_version": "1.2.0",
      "_view_name": "LayoutView",
      "align_content": null,
      "align_items": null,
      "align_self": null,
      "border": null,
      "bottom": null,
      "display": null,
      "flex": null,
      "flex_flow": null,
      "grid_area": null,
      "grid_auto_columns": null,
      "grid_auto_flow": null,
      "grid_auto_rows": null,
      "grid_column": null,
      "grid_gap": null,
      "grid_row": null,
      "grid_template_areas": null,
      "grid_template_columns": null,
      "grid_template_rows": null,
      "height": null,
      "justify_content": null,
      "justify_items": null,
      "left": null,
      "margin": null,
      "max_height": null,
      "max_width": null,
      "min_height": null,
      "min_width": null,
      "object_fit": null,
      "object_position": null,
      "order": null,
      "overflow": null,
      "overflow_x": null,
      "overflow_y": null,
      "padding": null,
      "right": null,
      "top": null,
      "visibility": null,
      "width": null
     }
    },
    "11e60d895e9142beab189eaf0fa0df14": {
     "model_module": "@jupyter-widgets/controls",
     "model_name": "HBoxModel",
     "state": {
      "_dom_classes": [],
      "_model_module": "@jupyter-widgets/controls",
      "_model_module_version": "1.5.0",
      "_model_name": "HBoxModel",
      "_view_count": null,
      "_view_module": "@jupyter-widgets/controls",
      "_view_module_version": "1.5.0",
      "_view_name": "HBoxView",
      "box_style": "",
      "children": [
       "IPY_MODEL_6e11ee69f84d420a938e196b07ba6274",
       "IPY_MODEL_195c3403a30f4350a69abdc1caafa795"
      ],
      "layout": "IPY_MODEL_41e453fda22e4508afa28b421569e561"
     }
    },
    "148d0078a22543a395909db21f947d4d": {
     "model_module": "@jupyter-widgets/controls",
     "model_name": "ProgressStyleModel",
     "state": {
      "_model_module": "@jupyter-widgets/controls",
      "_model_module_version": "1.5.0",
      "_model_name": "ProgressStyleModel",
      "_view_count": null,
      "_view_module": "@jupyter-widgets/base",
      "_view_module_version": "1.2.0",
      "_view_name": "StyleView",
      "bar_color": null,
      "description_width": "initial"
     }
    },
    "195c3403a30f4350a69abdc1caafa795": {
     "model_module": "@jupyter-widgets/controls",
     "model_name": "HTMLModel",
     "state": {
      "_dom_classes": [],
      "_model_module": "@jupyter-widgets/controls",
      "_model_module_version": "1.5.0",
      "_model_name": "HTMLModel",
      "_view_count": null,
      "_view_module": "@jupyter-widgets/controls",
      "_view_module_version": "1.5.0",
      "_view_name": "HTMLView",
      "description": "",
      "description_tooltip": null,
      "layout": "IPY_MODEL_4aacc03bbd0b433a8ff3fbd8f1a72231",
      "placeholder": "​",
      "style": "IPY_MODEL_8354b303c3a14eec8ab2d81bd8a9da30",
      "value": " 7627/7627 [01:29&lt;00:00, 85.35it/s]"
     }
    },
    "1c2c8a347f3442a28d07c41c8c84dd27": {
     "model_module": "@jupyter-widgets/base",
     "model_name": "LayoutModel",
     "state": {
      "_model_module": "@jupyter-widgets/base",
      "_model_module_version": "1.2.0",
      "_model_name": "LayoutModel",
      "_view_count": null,
      "_view_module": "@jupyter-widgets/base",
      "_view_module_version": "1.2.0",
      "_view_name": "LayoutView",
      "align_content": null,
      "align_items": null,
      "align_self": null,
      "border": null,
      "bottom": null,
      "display": null,
      "flex": null,
      "flex_flow": null,
      "grid_area": null,
      "grid_auto_columns": null,
      "grid_auto_flow": null,
      "grid_auto_rows": null,
      "grid_column": null,
      "grid_gap": null,
      "grid_row": null,
      "grid_template_areas": null,
      "grid_template_columns": null,
      "grid_template_rows": null,
      "height": null,
      "justify_content": null,
      "justify_items": null,
      "left": null,
      "margin": null,
      "max_height": null,
      "max_width": null,
      "min_height": null,
      "min_width": null,
      "object_fit": null,
      "object_position": null,
      "order": null,
      "overflow": null,
      "overflow_x": null,
      "overflow_y": null,
      "padding": null,
      "right": null,
      "top": null,
      "visibility": null,
      "width": null
     }
    },
    "1df51aaafc214051b459f8fe3c828593": {
     "model_module": "@jupyter-widgets/controls",
     "model_name": "ProgressStyleModel",
     "state": {
      "_model_module": "@jupyter-widgets/controls",
      "_model_module_version": "1.5.0",
      "_model_name": "ProgressStyleModel",
      "_view_count": null,
      "_view_module": "@jupyter-widgets/base",
      "_view_module_version": "1.2.0",
      "_view_name": "StyleView",
      "bar_color": null,
      "description_width": "initial"
     }
    },
    "41e453fda22e4508afa28b421569e561": {
     "model_module": "@jupyter-widgets/base",
     "model_name": "LayoutModel",
     "state": {
      "_model_module": "@jupyter-widgets/base",
      "_model_module_version": "1.2.0",
      "_model_name": "LayoutModel",
      "_view_count": null,
      "_view_module": "@jupyter-widgets/base",
      "_view_module_version": "1.2.0",
      "_view_name": "LayoutView",
      "align_content": null,
      "align_items": null,
      "align_self": null,
      "border": null,
      "bottom": null,
      "display": null,
      "flex": null,
      "flex_flow": null,
      "grid_area": null,
      "grid_auto_columns": null,
      "grid_auto_flow": null,
      "grid_auto_rows": null,
      "grid_column": null,
      "grid_gap": null,
      "grid_row": null,
      "grid_template_areas": null,
      "grid_template_columns": null,
      "grid_template_rows": null,
      "height": null,
      "justify_content": null,
      "justify_items": null,
      "left": null,
      "margin": null,
      "max_height": null,
      "max_width": null,
      "min_height": null,
      "min_width": null,
      "object_fit": null,
      "object_position": null,
      "order": null,
      "overflow": null,
      "overflow_x": null,
      "overflow_y": null,
      "padding": null,
      "right": null,
      "top": null,
      "visibility": null,
      "width": null
     }
    },
    "446e1b59e04b4a90929b6e6f2718be12": {
     "model_module": "@jupyter-widgets/controls",
     "model_name": "HBoxModel",
     "state": {
      "_dom_classes": [],
      "_model_module": "@jupyter-widgets/controls",
      "_model_module_version": "1.5.0",
      "_model_name": "HBoxModel",
      "_view_count": null,
      "_view_module": "@jupyter-widgets/controls",
      "_view_module_version": "1.5.0",
      "_view_name": "HBoxView",
      "box_style": "",
      "children": [
       "IPY_MODEL_ea09f53200bf4e35ac88b755147fc337",
       "IPY_MODEL_a3e3aebc1d194f5f9b1680639e9e072c"
      ],
      "layout": "IPY_MODEL_805c9e1efef243fc87c30cc23f9df6f8"
     }
    },
    "4aacc03bbd0b433a8ff3fbd8f1a72231": {
     "model_module": "@jupyter-widgets/base",
     "model_name": "LayoutModel",
     "state": {
      "_model_module": "@jupyter-widgets/base",
      "_model_module_version": "1.2.0",
      "_model_name": "LayoutModel",
      "_view_count": null,
      "_view_module": "@jupyter-widgets/base",
      "_view_module_version": "1.2.0",
      "_view_name": "LayoutView",
      "align_content": null,
      "align_items": null,
      "align_self": null,
      "border": null,
      "bottom": null,
      "display": null,
      "flex": null,
      "flex_flow": null,
      "grid_area": null,
      "grid_auto_columns": null,
      "grid_auto_flow": null,
      "grid_auto_rows": null,
      "grid_column": null,
      "grid_gap": null,
      "grid_row": null,
      "grid_template_areas": null,
      "grid_template_columns": null,
      "grid_template_rows": null,
      "height": null,
      "justify_content": null,
      "justify_items": null,
      "left": null,
      "margin": null,
      "max_height": null,
      "max_width": null,
      "min_height": null,
      "min_width": null,
      "object_fit": null,
      "object_position": null,
      "order": null,
      "overflow": null,
      "overflow_x": null,
      "overflow_y": null,
      "padding": null,
      "right": null,
      "top": null,
      "visibility": null,
      "width": null
     }
    },
    "5ae3e86ecd1f4d0f9b3cbf700ab11c7a": {
     "model_module": "@jupyter-widgets/controls",
     "model_name": "DescriptionStyleModel",
     "state": {
      "_model_module": "@jupyter-widgets/controls",
      "_model_module_version": "1.5.0",
      "_model_name": "DescriptionStyleModel",
      "_view_count": null,
      "_view_module": "@jupyter-widgets/base",
      "_view_module_version": "1.2.0",
      "_view_name": "StyleView",
      "description_width": ""
     }
    },
    "6e11ee69f84d420a938e196b07ba6274": {
     "model_module": "@jupyter-widgets/controls",
     "model_name": "FloatProgressModel",
     "state": {
      "_dom_classes": [],
      "_model_module": "@jupyter-widgets/controls",
      "_model_module_version": "1.5.0",
      "_model_name": "FloatProgressModel",
      "_view_count": null,
      "_view_module": "@jupyter-widgets/controls",
      "_view_module_version": "1.5.0",
      "_view_name": "ProgressView",
      "bar_style": "success",
      "description": "100%",
      "description_tooltip": null,
      "layout": "IPY_MODEL_05e4f892aa7043299e8675bf2329eb2c",
      "max": 7627,
      "min": 0,
      "orientation": "horizontal",
      "style": "IPY_MODEL_148d0078a22543a395909db21f947d4d",
      "value": 7627
     }
    },
    "805c9e1efef243fc87c30cc23f9df6f8": {
     "model_module": "@jupyter-widgets/base",
     "model_name": "LayoutModel",
     "state": {
      "_model_module": "@jupyter-widgets/base",
      "_model_module_version": "1.2.0",
      "_model_name": "LayoutModel",
      "_view_count": null,
      "_view_module": "@jupyter-widgets/base",
      "_view_module_version": "1.2.0",
      "_view_name": "LayoutView",
      "align_content": null,
      "align_items": null,
      "align_self": null,
      "border": null,
      "bottom": null,
      "display": null,
      "flex": null,
      "flex_flow": null,
      "grid_area": null,
      "grid_auto_columns": null,
      "grid_auto_flow": null,
      "grid_auto_rows": null,
      "grid_column": null,
      "grid_gap": null,
      "grid_row": null,
      "grid_template_areas": null,
      "grid_template_columns": null,
      "grid_template_rows": null,
      "height": null,
      "justify_content": null,
      "justify_items": null,
      "left": null,
      "margin": null,
      "max_height": null,
      "max_width": null,
      "min_height": null,
      "min_width": null,
      "object_fit": null,
      "object_position": null,
      "order": null,
      "overflow": null,
      "overflow_x": null,
      "overflow_y": null,
      "padding": null,
      "right": null,
      "top": null,
      "visibility": null,
      "width": null
     }
    },
    "8354b303c3a14eec8ab2d81bd8a9da30": {
     "model_module": "@jupyter-widgets/controls",
     "model_name": "DescriptionStyleModel",
     "state": {
      "_model_module": "@jupyter-widgets/controls",
      "_model_module_version": "1.5.0",
      "_model_name": "DescriptionStyleModel",
      "_view_count": null,
      "_view_module": "@jupyter-widgets/base",
      "_view_module_version": "1.2.0",
      "_view_name": "StyleView",
      "description_width": ""
     }
    },
    "a3e3aebc1d194f5f9b1680639e9e072c": {
     "model_module": "@jupyter-widgets/controls",
     "model_name": "HTMLModel",
     "state": {
      "_dom_classes": [],
      "_model_module": "@jupyter-widgets/controls",
      "_model_module_version": "1.5.0",
      "_model_name": "HTMLModel",
      "_view_count": null,
      "_view_module": "@jupyter-widgets/controls",
      "_view_module_version": "1.5.0",
      "_view_name": "HTMLView",
      "description": "",
      "description_tooltip": null,
      "layout": "IPY_MODEL_1c2c8a347f3442a28d07c41c8c84dd27",
      "placeholder": "​",
      "style": "IPY_MODEL_5ae3e86ecd1f4d0f9b3cbf700ab11c7a",
      "value": " 7360/7360 [01:14&lt;00:00, 99.30it/s]"
     }
    },
    "ea09f53200bf4e35ac88b755147fc337": {
     "model_module": "@jupyter-widgets/controls",
     "model_name": "FloatProgressModel",
     "state": {
      "_dom_classes": [],
      "_model_module": "@jupyter-widgets/controls",
      "_model_module_version": "1.5.0",
      "_model_name": "FloatProgressModel",
      "_view_count": null,
      "_view_module": "@jupyter-widgets/controls",
      "_view_module_version": "1.5.0",
      "_view_name": "ProgressView",
      "bar_style": "success",
      "description": "100%",
      "description_tooltip": null,
      "layout": "IPY_MODEL_eec96bdbe3354f5b8234c5362bc6838a",
      "max": 7360,
      "min": 0,
      "orientation": "horizontal",
      "style": "IPY_MODEL_1df51aaafc214051b459f8fe3c828593",
      "value": 7360
     }
    },
    "eec96bdbe3354f5b8234c5362bc6838a": {
     "model_module": "@jupyter-widgets/base",
     "model_name": "LayoutModel",
     "state": {
      "_model_module": "@jupyter-widgets/base",
      "_model_module_version": "1.2.0",
      "_model_name": "LayoutModel",
      "_view_count": null,
      "_view_module": "@jupyter-widgets/base",
      "_view_module_version": "1.2.0",
      "_view_name": "LayoutView",
      "align_content": null,
      "align_items": null,
      "align_self": null,
      "border": null,
      "bottom": null,
      "display": null,
      "flex": null,
      "flex_flow": null,
      "grid_area": null,
      "grid_auto_columns": null,
      "grid_auto_flow": null,
      "grid_auto_rows": null,
      "grid_column": null,
      "grid_gap": null,
      "grid_row": null,
      "grid_template_areas": null,
      "grid_template_columns": null,
      "grid_template_rows": null,
      "height": null,
      "justify_content": null,
      "justify_items": null,
      "left": null,
      "margin": null,
      "max_height": null,
      "max_width": null,
      "min_height": null,
      "min_width": null,
      "object_fit": null,
      "object_position": null,
      "order": null,
      "overflow": null,
      "overflow_x": null,
      "overflow_y": null,
      "padding": null,
      "right": null,
      "top": null,
      "visibility": null,
      "width": null
     }
    }
   }
  }
 },
 "nbformat": 4,
 "nbformat_minor": 4
}
