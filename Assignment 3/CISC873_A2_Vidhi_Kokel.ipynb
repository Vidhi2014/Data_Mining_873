{
  "cells": [
    {
      "cell_type": "markdown",
      "metadata": {
        "id": "VbJUqFm8RioD"
      },
      "source": [
        "### Author: Vidhi Kokel\n",
        "# Theoretical Questions\n",
        "\n",
        "####🌈 Why a simple linear regression model (without any activation function) is not good for classification task, compared to Perceptron/Logistic regression?\n",
        "#### ✅There are majorly two following reasons why linear regression model does not perform well for classification tasks.\n",
        "1. In case of linear regression the predicted values are continuous whereas the classification tasks require categorical values i.e the ourcomes from linear regression are not probabilistic.\n",
        "2. It is sensitive to imbalanced data.\n",
        "##### Source: https://jinglescode.github.io/2019/05/07/why-linear-regression-is-not-suitable-for-classification/\n",
        "\n",
        "####🌈What's a decision tree and how it is different to a logistic regression model?\n",
        "#### ✅A decision tree is a non-parametric supervised learning algorithm, which is utilized for both classification and regression tasks. It has a hierarchical, tree structure, which consists of a root node, branches, internal nodes and leaf nodes.\n",
        "Following are the differences between a decision treee and a logistic regression model:\n",
        "1. Logistic regression looks like an equation between independent variables with respect to dependent variable but decision tree works on simple sentences which produces an outcome based on the decision statement.\n",
        "2. Logistic regression is a parametric model that has parameter to predict the dependent variable but decision tree is a non-parametric model in which no parameter exists.\n",
        "3. Assumptions can be made target variables with binomial or Bernoulli distribution but no assumptions can be made on the decision tree algorithm\n",
        "4. Shape of the model is predefined as logistic curve but it is not predefined in decision tree algorithm\n",
        "5. Logistic algorithms provide good results when independent variables are continuous in nature but decision trees produce results when the variables are categorical in nature.\n",
        "6. Logistic regression finds it difficult to interact with non linear variables they do not affect the performance in case of decision tree algorithm.\n",
        "7. Outliers and missing values reduce the performance of logistic regression but they do not affect the performance of decision tree algorithm.\n",
        "##### Sources: https://www.ibm.com/topics/decision-trees\n",
        "https://www.janbasktraining.com/community/data-science/how-logistic-regression-is-different-from-decision-tree\n",
        "\n",
        "####🌈What's the difference between grid search and random search?\n",
        "#### ✅Grid search does an exhaustive search from the provided hyper-parameters to give out the best possible combination from the provided parameters considering the best score received. On the other hand, random search randomly selects parameter values from the given range of hyper-parameters. That means if we have provided 3 different values for one parameter and 4 different values for another, then Grid search would try 12 different combinations whereas the random search would execute random combinations depending on the number of iterations provided or a distribution of the values. Thus, as grid search tries all the possible combinations it is computationally expensive than random search. But on the other hand grid search guarantees the best solution while random search does not.\n",
        "##### Source: https://www.linkedin.com/pulse/what-gridsearchcv-randomizedsearchcv-differences-between-cheruku/\n",
        "\n",
        "####🌈What's the difference between bayesian search and random search?\n",
        "#### ✅The major difference between Bayesian search and the random search is that the tuning algorithm optimizes its parameter selection in each round according to the previous round score. Thus, instead of randomly choosing the next set of parameters, the algorithm optimizes the choice, and likely reaches the best parameter set faster than the previous two methods. Meaning, this method chooses only the relevant search space and discards the ranges that will most likely not deliver the best solution. Thus, it can be beneficial when you have a large amount of data, the learning is slow, and you want to minimize the tuning time.\n",
        "##### Source: https://towardsdatascience.com/bayesian-optimization-for-hyperparameter-tuning-how-and-why-655b0ee0b399\n"
      ]
    },
    {
      "cell_type": "markdown",
      "metadata": {
        "id": "_JDpq8GzSlKJ"
      },
      "source": [
        "#Speed Dating Match Prediction"
      ]
    },
    {
      "cell_type": "code",
      "execution_count": 21,
      "metadata": {
        "id": "BAoqen3YRWQ1"
      },
      "outputs": [],
      "source": [
        "#Imports the required libraries, models and metrics\n",
        "import pandas as pd\n",
        "import numpy as np\n",
        "from sklearn.linear_model import LogisticRegression\n",
        "from sklearn.metrics import f1_score\n",
        "from pprint import pprint"
      ]
    },
    {
      "cell_type": "code",
      "execution_count": 22,
      "metadata": {
        "colab": {
          "base_uri": "https://localhost:8080/"
        },
        "id": "6z2mrG6HRWQ-",
        "outputId": "0f01728c-e78d-4747-9b93-9b368cb54ca6"
      },
      "outputs": [
        {
          "output_type": "execute_result",
          "data": {
            "text/plain": [
              "(5909, 192)"
            ]
          },
          "metadata": {},
          "execution_count": 22
        }
      ],
      "source": [
        "# Loading the training data\n",
        "data = pd.read_csv('train.csv')\n",
        "# Loading the test data\n",
        "data_test = pd.read_csv('test.csv')\n",
        "# Prints the dimensions of the training data\n",
        "data.shape"
      ]
    },
    {
      "cell_type": "code",
      "execution_count": 23,
      "metadata": {
        "colab": {
          "base_uri": "https://localhost:8080/",
          "height": 282
        },
        "id": "ME2YdgBTRWRA",
        "outputId": "f5691366-805a-43ab-b900-f77b5688695d"
      },
      "outputs": [
        {
          "output_type": "execute_result",
          "data": {
            "text/plain": [
              "<matplotlib.axes._subplots.AxesSubplot at 0x7fba64549bd0>"
            ]
          },
          "metadata": {},
          "execution_count": 23
        },
        {
          "output_type": "display_data",
          "data": {
            "text/plain": [
              "<Figure size 432x288 with 1 Axes>"
            ],
            "image/png": "[encoded data removed]"
          },
          "metadata": {
            "needs_background": "light"
          }
        }
      ],
      "source": [
        "# isnull() - Checks the values of all columns for the data frame if it is null\n",
        "# isnull().sum() - Adds the null values for each column\n",
        "# isnull().sum().hist() - Generates a histogram for the resulting values\n",
        "data.isnull().sum().hist()"
      ]
    },
    {
      "cell_type": "code",
      "execution_count": 24,
      "metadata": {
        "colab": {
          "base_uri": "https://localhost:8080/",
          "height": 282
        },
        "id": "H3IOnOv7RWRB",
        "outputId": "db6520bf-ac0d-4185-b2cb-4f45db3596f6"
      },
      "outputs": [
        {
          "output_type": "execute_result",
          "data": {
            "text/plain": [
              "<matplotlib.axes._subplots.AxesSubplot at 0x7fba70554390>"
            ]
          },
          "metadata": {},
          "execution_count": 24
        },
        {
          "output_type": "display_data",
          "data": {
            "text/plain": [
              "<Figure size 432x288 with 1 Axes>"
            ],
            "image/png": "[encoded data removed]"
          },
          "metadata": {
            "needs_background": "light"
          }
        }
      ],
      "source": [
        "# Creates a histogram for the values in the match column of the training data\n",
        "# Noticed that the data is imbalanced\n",
        "data['match'].hist()"
      ]
    },
    {
      "cell_type": "code",
      "execution_count": 25,
      "metadata": {
        "colab": {
          "base_uri": "https://localhost:8080/"
        },
        "id": "Sul5zkdY2pH-",
        "outputId": "6e98f0dd-ff6b-4ac9-bb6d-45e6ea3cd02b"
      },
      "outputs": [
        {
          "output_type": "execute_result",
          "data": {
            "text/plain": [
              "match\n",
              "0    4921\n",
              "1     988\n",
              "Name: id, dtype: int64"
            ]
          },
          "metadata": {},
          "execution_count": 25
        }
      ],
      "source": [
        "# Found exact number of records for each class\n",
        "data.groupby(\"match\")[\"id\"].count()"
      ]
    },
    {
      "cell_type": "code",
      "execution_count": 26,
      "metadata": {
        "id": "gkmjBH_i3BzF"
      },
      "outputs": [],
      "source": [
        "# Approach 1: Undersampling the no match records to the number of match records \n",
        "# we have in the data. i.e 988 (match records) + 988 (no match records) = 1976\n",
        "# But it overfit the model on the data.\n",
        "# Approach 2: Oversampling the match records to the number of no match records \n",
        "# we have in the data by replacing the same records. \n",
        "# i.e 4921 (no match records) + 4921 (match records) = 9842\n",
        "# But it overfit the model as well.\n",
        "# # balanced_data = []\n",
        "# match_df = data.loc[data[\"match\"] == 1]\n",
        "# no_match_df = data.loc[data[\"match\"] == 0]\n",
        "# match_df = match_df.sample(n=(len(no_match_df) // 2), replace=True)\n",
        "# no_match_df = no_match_df.sample(n=(len(no_match_df) // 2))\n",
        "# # balanced_data = match_df + no_match_df.sample(n=len(match_df))\n",
        "# data = pd.concat([match_df, no_match_df], ignore_index=True)\n",
        "# data"
      ]
    },
    {
      "cell_type": "code",
      "execution_count": 27,
      "metadata": {
        "colab": {
          "base_uri": "https://localhost:8080/",
          "height": 282
        },
        "id": "BVJe6HRUiNVs",
        "outputId": "68fcad34-5e9d-4ef2-ac48-7bf7a0fd1ca2"
      },
      "outputs": [
        {
          "output_type": "execute_result",
          "data": {
            "text/plain": [
              "<matplotlib.axes._subplots.AxesSubplot at 0x7fba6443a950>"
            ]
          },
          "metadata": {},
          "execution_count": 27
        },
        {
          "output_type": "display_data",
          "data": {
            "text/plain": [
              "<Figure size 432x288 with 1 Axes>"
            ],
            "image/png": "[encoded data removed]"
          },
          "metadata": {
            "needs_background": "light"
          }
        }
      ],
      "source": [
        "# data['match'].hist()"
      ]
    },
    {
      "cell_type": "code",
      "execution_count": 28,
      "metadata": {
        "colab": {
          "base_uri": "https://localhost:8080/"
        },
        "id": "Yv2DKYfxRWRD",
        "outputId": "c09c90d2-1039-40c3-b55f-010be8953bd8"
      },
      "outputs": [
        {
          "output_type": "stream",
          "name": "stdout",
          "text": [
            "Looking in indexes: https://pypi.org/simple, https://us-python.pkg.dev/colab-wheels/public/simple/\n",
            "Requirement already satisfied: xgboost in /usr/local/lib/python3.7/dist-packages (0.90)\n",
            "Requirement already satisfied: numpy in /usr/local/lib/python3.7/dist-packages (from xgboost) (1.21.6)\n",
            "Requirement already satisfied: scipy in /usr/local/lib/python3.7/dist-packages (from xgboost) (1.7.3)\n",
            "Looking in indexes: https://pypi.org/simple, https://us-python.pkg.dev/colab-wheels/public/simple/\n",
            "Requirement already satisfied: scikit-optimize in /usr/local/lib/python3.7/dist-packages (0.9.0)\n",
            "Requirement already satisfied: scipy>=0.19.1 in /usr/local/lib/python3.7/dist-packages (from scikit-optimize) (1.7.3)\n",
            "Requirement already satisfied: joblib>=0.11 in /usr/local/lib/python3.7/dist-packages (from scikit-optimize) (1.2.0)\n",
            "Requirement already satisfied: scikit-learn>=0.20.0 in /usr/local/lib/python3.7/dist-packages (from scikit-optimize) (1.0.2)\n",
            "Requirement already satisfied: pyaml>=16.9 in /usr/local/lib/python3.7/dist-packages (from scikit-optimize) (21.10.1)\n",
            "Requirement already satisfied: numpy>=1.13.3 in /usr/local/lib/python3.7/dist-packages (from scikit-optimize) (1.21.6)\n",
            "Requirement already satisfied: PyYAML in /usr/local/lib/python3.7/dist-packages (from pyaml>=16.9->scikit-optimize) (6.0)\n",
            "Requirement already satisfied: threadpoolctl>=2.0.0 in /usr/local/lib/python3.7/dist-packages (from scikit-learn>=0.20.0->scikit-optimize) (3.1.0)\n"
          ]
        }
      ],
      "source": [
        "# if you haven't installed xgboost on your system, uncomment the line below\n",
        "!pip install xgboost\n",
        "# if you haven't installed bayesian-optimization on your system, uncomment the line below\n",
        "!pip install scikit-optimize"
      ]
    },
    {
      "cell_type": "code",
      "execution_count": 29,
      "metadata": {
        "id": "QOZbPLevQRab"
      },
      "outputs": [],
      "source": [
        "# Create correlation matrix for all the features and drop the features \n",
        "# with more than 0.75 correlation\n",
        "# Approach 3: Undersampling + removing correlated columns\n",
        "# But that did not improve the performance significantly\n",
        "# Approach 4: Upsampling + removing correlated columns\n",
        "# cor_matrix = data.corr().abs()\n",
        "# # Selecting the upper triangle of the matrix as the lower triangle is its mirror image\n",
        "# upper_tri = cor_matrix.where(np.triu(np.ones(cor_matrix.shape),k=1).astype(np.bool))\n",
        "# # Drop the columns with correlation value of more than 0.85\n",
        "# to_drop = [column for column in upper_tri.columns if any(upper_tri[column] > 0.75)]\n",
        "# print(to_drop)\n",
        "# data = data.drop(to_drop, axis=1)\n",
        "# data.shape"
      ]
    },
    {
      "cell_type": "code",
      "execution_count": 30,
      "metadata": {
        "id": "se-ZtpoxRWRE"
      },
      "outputs": [],
      "source": [
        "# Drop the match column from the training data and assign other columns to the variable x\n",
        "x = data.drop('match', axis=1)\n",
        "# List all columns with numeric values\n",
        "features_numeric = list(x.select_dtypes(include=['float64']))\n",
        "# List all columns with categorical values\n",
        "features_categorical = list(x.select_dtypes(include=['object']))\n",
        "# Extract the match column from the training data and assign it to the variable y\n",
        "y = data['match']"
      ]
    },
    {
      "cell_type": "code",
      "execution_count": 31,
      "metadata": {
        "colab": {
          "base_uri": "https://localhost:8080/"
        },
        "id": "VoUBs0ogRWRG",
        "outputId": "51ab534d-e11a-4d61-bce8-09d875cf08c7"
      },
      "outputs": [
        {
          "output_type": "stream",
          "name": "stdout",
          "text": [
            "['field', 'undergra', 'mn_sat', 'tuition', 'from', 'zipcode', 'income', 'career']\n"
          ]
        }
      ],
      "source": [
        "# Print the categorical features in the training data\n",
        "print(features_categorical)"
      ]
    },
    {
      "cell_type": "code",
      "execution_count": 32,
      "metadata": {
        "id": "l6KGwzw1RWRI"
      },
      "outputs": [],
      "source": [
        "#Imports the required libraries, models and metrics\n",
        "from sklearn.compose import ColumnTransformer\n",
        "from sklearn.datasets import fetch_openml\n",
        "from sklearn.pipeline import Pipeline\n",
        "from sklearn.impute import SimpleImputer\n",
        "from sklearn.preprocessing import StandardScaler, OneHotEncoder\n",
        "from sklearn.model_selection import train_test_split, GridSearchCV\n",
        "from xgboost.sklearn import XGBClassifier\n",
        "from sklearn.ensemble import AdaBoostClassifier\n",
        "\n",
        "# Sets the seed so that everytime the same random values are generated\n",
        "np.random.seed(0)\n",
        "\n",
        "# Creates a pipeline to accommodate the steps to be applied for \n",
        "# numeric features in the training data\n",
        "transformer_numeric = Pipeline(\n",
        "    steps=[\n",
        "        # SimpleImputer: Fills the missing value according to the provided strategy\n",
        "        # Here we fill the missing values of numeric features with the median\n",
        "        # of the values for that specific column\n",
        "        ('imputer', SimpleImputer(strategy='mean')),\n",
        "        # StandardScaler: Standardize numeric features by removing the mean and \n",
        "        # scaling to unit variance.\n",
        "        ('scaler', StandardScaler())]\n",
        ")\n",
        "\n",
        "# Creates a pipeline to accommodate the steps to be applied for \n",
        "# categorical features in the training data\n",
        "transformer_categorical = Pipeline(\n",
        "    steps=[\n",
        "        # Here we fill the missing values of categorical features with \"missing\"\n",
        "        # value literally\n",
        "        ('imputer', SimpleImputer(strategy='constant', fill_value='missing')),\n",
        "        # OneHotEncoder: Encode categorical features as a one-hot numeric array\n",
        "        # Also here we ignore the unknown values\n",
        "        ('onehot', OneHotEncoder(handle_unknown='ignore'))\n",
        "    ]\n",
        ")\n",
        "\n",
        "# Creates a data preprocessing pipeline to accommodate all the steps \n",
        "# to be applied for both numeric and categorical features in the training data\n",
        "preprocessor = ColumnTransformer(\n",
        "    transformers=[\n",
        "        # Transform the numeric features according to the steps \n",
        "        # in the transformer_numeric pipeline\n",
        "        ('num', transformer_numeric, features_numeric),\n",
        "        # Transform the categorical features according to the steps \n",
        "        # in the transformer_categorical pipeline\n",
        "        ('cat', transformer_categorical, features_categorical)\n",
        "    ]\n",
        ")\n",
        "\n",
        "# Creates the full pipeline to accommodate all the steps \n",
        "# to be applied to the training data\n",
        "full_pipline = Pipeline(\n",
        "    steps=[\n",
        "        # Execute the preprocessing pipeline\n",
        "        ('preprocessor', preprocessor),\n",
        "        # Execute a classifier on the training data\n",
        "        ('my_classifier', XGBClassifier())\n",
        "    ]\n",
        ")"
      ]
    },
    {
      "cell_type": "code",
      "execution_count": 33,
      "metadata": {
        "colab": {
          "base_uri": "https://localhost:8080/"
        },
        "id": "LoS3UAYvaf15",
        "outputId": "06b2a6b6-9b52-4371-cc3d-d35c4435d02a"
      },
      "outputs": [
        {
          "output_type": "stream",
          "name": "stdout",
          "text": [
            "Fitting 5 folds for each of 2 candidates, totalling 10 fits\n",
            "best score 0.8815073869371008\n",
            "best score {'my_classifier__colsample_bytree': 0.5, 'my_classifier__gamma': 0.1, 'my_classifier__learning_rate': 0.1, 'my_classifier__max_depth': 6, 'my_classifier__n_estimators': 100, 'preprocessor__num__imputer__strategy': 'mean'}\n"
          ]
        }
      ],
      "source": [
        "# With Approach 3 & 4 tried to tune the following parameters and found the \n",
        "# parameters applied to be optimal\n",
        "#  param_grid = {\n",
        "#     'preprocessor__num__imputer__strategy': ['mean', 'median'],\n",
        "#     'my_classifier__learning_rate': [0.1, 0.01, 0.001],\n",
        "#     'my_classifier__gamma': [0.1, 0.2, 0.5],\n",
        "#     'my_classifier__colsample_bytree': [0.5, 0.6, 0.7],\n",
        "#     'my_classifier__n_estimators': [50, 100, 200, 500],\n",
        "#     # 'my_classifier__algorithm': [\"SAMME\", \"SAMME.R\"],\n",
        "#     'my_classifier__max_depth':[4, 6, 10]\n",
        "# }\n",
        "\n",
        "# `__` denotes attribute \n",
        "# (e.g. my_classifier__n_estimators means the `n_estimators` param for `my_classifier`\n",
        "#  which is our xgb)\n",
        "param_grid = {\n",
        "    'preprocessor__num__imputer__strategy': ['mean'],\n",
        "    'my_classifier__learning_rate': [0.1],\n",
        "    'my_classifier__gamma': [0.1],\n",
        "    'my_classifier__colsample_bytree': [0.5],\n",
        "    'my_classifier__n_estimators': [100],\n",
        "    # 'my_classifier__algorithm': [\"SAMME\", \"SAMME.R\"],\n",
        "    'my_classifier__max_depth':[6, 10]\n",
        "}\n",
        "\n",
        "# Prepare the grid_search parameters\n",
        "grid_search = GridSearchCV(\n",
        "    full_pipline, param_grid, cv=5, verbose=3, n_jobs=2, \n",
        "    scoring='roc_auc')\n",
        "\n",
        "#Train the data using grid search\n",
        "grid_search.fit(x, y)\n",
        "\n",
        "# Print the best score from all the executions performed using grid search\n",
        "print('best score {}'.format(grid_search.best_score_))\n",
        "# Print the best parameters that generate the best score from all the executions\n",
        "print('best score {}'.format(grid_search.best_params_))"
      ]
    },
    {
      "cell_type": "code",
      "execution_count": 34,
      "metadata": {
        "colab": {
          "base_uri": "https://localhost:8080/",
          "height": 424
        },
        "id": "PyyvEK0NbBWN",
        "outputId": "a568d28c-1d36-4950-a3a4-ad51298b923a"
      },
      "outputs": [
        {
          "output_type": "execute_result",
          "data": {
            "text/plain": [
              "        id     match\n",
              "0      934  0.062420\n",
              "1     6539  0.669651\n",
              "2     6757  0.243797\n",
              "3     2275  0.058605\n",
              "4     1052  0.013576\n",
              "...    ...       ...\n",
              "2464  7982  0.128562\n",
              "2465  7299  0.461810\n",
              "2466  1818  0.138659\n",
              "2467   937  0.021414\n",
              "2468  6691  0.013059\n",
              "\n",
              "[2469 rows x 2 columns]"
            ],
            "text/html": [
              "\n",
              "  <div id=\"df-7185127f-a71b-4372-928f-499345a9e24d\">\n",
              "    <div class=\"colab-df-container\">\n",
              "      <div>\n",
              "<style scoped>\n",
              "    .dataframe tbody tr th:only-of-type {\n",
              "        vertical-align: middle;\n",
              "    }\n",
              "\n",
              "    .dataframe tbody tr th {\n",
              "        vertical-align: top;\n",
              "    }\n",
              "\n",
              "    .dataframe thead th {\n",
              "        text-align: right;\n",
              "    }\n",
              "</style>\n",
              "<table border=\"1\" class=\"dataframe\">\n",
              "  <thead>\n",
              "    <tr style=\"text-align: right;\">\n",
              "      <th></th>\n",
              "      <th>id</th>\n",
              "      <th>match</th>\n",
              "    </tr>\n",
              "  </thead>\n",
              "  <tbody>\n",
              "    <tr>\n",
              "      <th>0</th>\n",
              "      <td>934</td>\n",
              "      <td>0.062420</td>\n",
              "    </tr>\n",
              "    <tr>\n",
              "      <th>1</th>\n",
              "      <td>6539</td>\n",
              "      <td>0.669651</td>\n",
              "    </tr>\n",
              "    <tr>\n",
              "      <th>2</th>\n",
              "      <td>6757</td>\n",
              "      <td>0.243797</td>\n",
              "    </tr>\n",
              "    <tr>\n",
              "      <th>3</th>\n",
              "      <td>2275</td>\n",
              "      <td>0.058605</td>\n",
              "    </tr>\n",
              "    <tr>\n",
              "      <th>4</th>\n",
              "      <td>1052</td>\n",
              "      <td>0.013576</td>\n",
              "    </tr>\n",
              "    <tr>\n",
              "      <th>...</th>\n",
              "      <td>...</td>\n",
              "      <td>...</td>\n",
              "    </tr>\n",
              "    <tr>\n",
              "      <th>2464</th>\n",
              "      <td>7982</td>\n",
              "      <td>0.128562</td>\n",
              "    </tr>\n",
              "    <tr>\n",
              "      <th>2465</th>\n",
              "      <td>7299</td>\n",
              "      <td>0.461810</td>\n",
              "    </tr>\n",
              "    <tr>\n",
              "      <th>2466</th>\n",
              "      <td>1818</td>\n",
              "      <td>0.138659</td>\n",
              "    </tr>\n",
              "    <tr>\n",
              "      <th>2467</th>\n",
              "      <td>937</td>\n",
              "      <td>0.021414</td>\n",
              "    </tr>\n",
              "    <tr>\n",
              "      <th>2468</th>\n",
              "      <td>6691</td>\n",
              "      <td>0.013059</td>\n",
              "    </tr>\n",
              "  </tbody>\n",
              "</table>\n",
              "<p>2469 rows × 2 columns</p>\n",
              "</div>\n",
              "      <button class=\"colab-df-convert\" onclick=\"convertToInteractive('df-7185127f-a71b-4372-928f-499345a9e24d')\"\n",
              "              title=\"Convert this dataframe to an interactive table.\"\n",
              "              style=\"display:none;\">\n",
              "        \n",
              "  <svg xmlns=\"http://www.w3.org/2000/svg\" height=\"24px\"viewBox=\"0 0 24 24\"\n",
              "       width=\"24px\">\n",
              "    <path d=\"M0 0h24v24H0V0z\" fill=\"none\"/>\n",
              "    <path d=\"M18.56 5.44l.94 2.06.94-2.06 2.06-.94-2.06-.94-.94-2.06-.94 2.06-2.06.94zm-11 1L8.5 8.5l.94-2.06 2.06-.94-2.06-.94L8.5 2.5l-.94 2.06-2.06.94zm10 10l.94 2.06.94-2.06 2.06-.94-2.06-.94-.94-2.06-.94 2.06-2.06.94z\"/><path d=\"M17.41 7.96l-1.37-1.37c-.4-.4-.92-.59-1.43-.59-.52 0-1.04.2-1.43.59L10.3 9.45l-7.72 7.72c-.78.78-.78 2.05 0 2.83L4 21.41c.39.39.9.59 1.41.59.51 0 1.02-.2 1.41-.59l7.78-7.78 2.81-2.81c.8-.78.8-2.07 0-2.86zM5.41 20L4 18.59l7.72-7.72 1.47 1.35L5.41 20z\"/>\n",
              "  </svg>\n",
              "      </button>\n",
              "      \n",
              "  <style>\n",
              "    .colab-df-container {\n",
              "      display:flex;\n",
              "      flex-wrap:wrap;\n",
              "      gap: 12px;\n",
              "    }\n",
              "\n",
              "    .colab-df-convert {\n",
              "      background-color: #E8F0FE;\n",
              "      border: none;\n",
              "      border-radius: 50%;\n",
              "      cursor: pointer;\n",
              "      display: none;\n",
              "      fill: #1967D2;\n",
              "      height: 32px;\n",
              "      padding: 0 0 0 0;\n",
              "      width: 32px;\n",
              "    }\n",
              "\n",
              "    .colab-df-convert:hover {\n",
              "      background-color: #E2EBFA;\n",
              "      box-shadow: 0px 1px 2px rgba(60, 64, 67, 0.3), 0px 1px 3px 1px rgba(60, 64, 67, 0.15);\n",
              "      fill: #174EA6;\n",
              "    }\n",
              "\n",
              "    [theme=dark] .colab-df-convert {\n",
              "      background-color: #3B4455;\n",
              "      fill: #D2E3FC;\n",
              "    }\n",
              "\n",
              "    [theme=dark] .colab-df-convert:hover {\n",
              "      background-color: #434B5C;\n",
              "      box-shadow: 0px 1px 3px 1px rgba(0, 0, 0, 0.15);\n",
              "      filter: drop-shadow(0px 1px 2px rgba(0, 0, 0, 0.3));\n",
              "      fill: #FFFFFF;\n",
              "    }\n",
              "  </style>\n",
              "\n",
              "      <script>\n",
              "        const buttonEl =\n",
              "          document.querySelector('#df-7185127f-a71b-4372-928f-499345a9e24d button.colab-df-convert');\n",
              "        buttonEl.style.display =\n",
              "          google.colab.kernel.accessAllowed ? 'block' : 'none';\n",
              "\n",
              "        async function convertToInteractive(key) {\n",
              "          const element = document.querySelector('#df-7185127f-a71b-4372-928f-499345a9e24d');\n",
              "          const dataTable =\n",
              "            await google.colab.kernel.invokeFunction('convertToInteractive',\n",
              "                                                     [key], {});\n",
              "          if (!dataTable) return;\n",
              "\n",
              "          const docLinkHtml = 'Like what you see? Visit the ' +\n",
              "            '<a target=\"_blank\" href=https://colab.research.google.com/notebooks/data_table.ipynb>data table notebook</a>'\n",
              "            + ' to learn more about interactive tables.';\n",
              "          element.innerHTML = '';\n",
              "          dataTable['output_type'] = 'display_data';\n",
              "          await google.colab.output.renderOutput(dataTable, element);\n",
              "          const docLink = document.createElement('div');\n",
              "          docLink.innerHTML = docLinkHtml;\n",
              "          element.appendChild(docLink);\n",
              "        }\n",
              "      </script>\n",
              "    </div>\n",
              "  </div>\n",
              "  "
            ]
          },
          "metadata": {},
          "execution_count": 34
        }
      ],
      "source": [
        "# Generated grid search, random search and bayes search results for each approach mentioned above \n",
        "# prepare submission:\n",
        "submission = pd.DataFrame()\n",
        "submission['id'] = data_test['id']\n",
        "submission['match'] = grid_search.predict_proba(data_test)[:,1]\n",
        "submission.to_csv('sample_submission_walkthrough.csv', index=False)\n",
        "submission"
      ]
    },
    {
      "cell_type": "code",
      "execution_count": 35,
      "metadata": {
        "colab": {
          "base_uri": "https://localhost:8080/"
        },
        "id": "ezGm5S5-YwZD",
        "outputId": "6f5240b0-0de7-4791-92d4-95f01cb97e12"
      },
      "outputs": [
        {
          "output_type": "stream",
          "name": "stdout",
          "text": [
            "Fitting 5 folds for each of 10 candidates, totalling 50 fits\n",
            "best score 0.8804560360470042\n",
            "best score {'preprocessor__num__imputer__strategy': 'median', 'my_classifier__n_estimators': 500, 'my_classifier__max_depth': 6, 'my_classifier__learning_rate': 0.1, 'my_classifier__gamma': 0.2, 'my_classifier__colsample_bytree': 0.6}\n"
          ]
        }
      ],
      "source": [
        "from sklearn.model_selection import RandomizedSearchCV\n",
        "\n",
        "param_grid = {\n",
        "    'preprocessor__num__imputer__strategy': ['mean', 'median'],\n",
        "    'my_classifier__learning_rate': [0.1, 0.01, 0.001],\n",
        "    'my_classifier__gamma': [0.1, 0.2, 0.5],\n",
        "    'my_classifier__colsample_bytree': [0.5, 0.6, 0.7],\n",
        "    'my_classifier__n_estimators': [50, 100, 200, 500],\n",
        "    # 'my_classifier__algorithm': [\"SAMME\", \"SAMME.R\"],\n",
        "    'my_classifier__max_depth':[4, 6, 10]\n",
        "}\n",
        "\n",
        "# Prepare the grid_search parameters\n",
        "random_search = RandomizedSearchCV(\n",
        "    full_pipline, param_grid, cv=5, verbose=3, n_jobs=2, n_iter=10,\n",
        "    scoring='roc_auc')\n",
        "\n",
        "#Train the data using grid search\n",
        "random_search.fit(x, y)\n",
        "\n",
        "# Print the best score from all the executions performed using grid search\n",
        "print('best score {}'.format(random_search.best_score_))\n",
        "# Print the best parameters that generate the best score from all the executions\n",
        "print('best score {}'.format(random_search.best_params_))"
      ]
    },
    {
      "cell_type": "code",
      "execution_count": 36,
      "metadata": {
        "colab": {
          "base_uri": "https://localhost:8080/",
          "height": 424
        },
        "id": "enx5CyuRRWRN",
        "outputId": "d728df21-d131-45cd-aa14-ed62b3121f1f"
      },
      "outputs": [
        {
          "output_type": "execute_result",
          "data": {
            "text/plain": [
              "        id     match\n",
              "0      934  0.011742\n",
              "1     6539  0.555158\n",
              "2     6757  0.062904\n",
              "3     2275  0.017215\n",
              "4     1052  0.000366\n",
              "...    ...       ...\n",
              "2464  7982  0.013306\n",
              "2465  7299  0.608189\n",
              "2466  1818  0.047708\n",
              "2467   937  0.000724\n",
              "2468  6691  0.000804\n",
              "\n",
              "[2469 rows x 2 columns]"
            ],
            "text/html": [
              "\n",
              "  <div id=\"df-cdbd326d-d2f6-401a-a7b3-b3d34011c31b\">\n",
              "    <div class=\"colab-df-container\">\n",
              "      <div>\n",
              "<style scoped>\n",
              "    .dataframe tbody tr th:only-of-type {\n",
              "        vertical-align: middle;\n",
              "    }\n",
              "\n",
              "    .dataframe tbody tr th {\n",
              "        vertical-align: top;\n",
              "    }\n",
              "\n",
              "    .dataframe thead th {\n",
              "        text-align: right;\n",
              "    }\n",
              "</style>\n",
              "<table border=\"1\" class=\"dataframe\">\n",
              "  <thead>\n",
              "    <tr style=\"text-align: right;\">\n",
              "      <th></th>\n",
              "      <th>id</th>\n",
              "      <th>match</th>\n",
              "    </tr>\n",
              "  </thead>\n",
              "  <tbody>\n",
              "    <tr>\n",
              "      <th>0</th>\n",
              "      <td>934</td>\n",
              "      <td>0.011742</td>\n",
              "    </tr>\n",
              "    <tr>\n",
              "      <th>1</th>\n",
              "      <td>6539</td>\n",
              "      <td>0.555158</td>\n",
              "    </tr>\n",
              "    <tr>\n",
              "      <th>2</th>\n",
              "      <td>6757</td>\n",
              "      <td>0.062904</td>\n",
              "    </tr>\n",
              "    <tr>\n",
              "      <th>3</th>\n",
              "      <td>2275</td>\n",
              "      <td>0.017215</td>\n",
              "    </tr>\n",
              "    <tr>\n",
              "      <th>4</th>\n",
              "      <td>1052</td>\n",
              "      <td>0.000366</td>\n",
              "    </tr>\n",
              "    <tr>\n",
              "      <th>...</th>\n",
              "      <td>...</td>\n",
              "      <td>...</td>\n",
              "    </tr>\n",
              "    <tr>\n",
              "      <th>2464</th>\n",
              "      <td>7982</td>\n",
              "      <td>0.013306</td>\n",
              "    </tr>\n",
              "    <tr>\n",
              "      <th>2465</th>\n",
              "      <td>7299</td>\n",
              "      <td>0.608189</td>\n",
              "    </tr>\n",
              "    <tr>\n",
              "      <th>2466</th>\n",
              "      <td>1818</td>\n",
              "      <td>0.047708</td>\n",
              "    </tr>\n",
              "    <tr>\n",
              "      <th>2467</th>\n",
              "      <td>937</td>\n",
              "      <td>0.000724</td>\n",
              "    </tr>\n",
              "    <tr>\n",
              "      <th>2468</th>\n",
              "      <td>6691</td>\n",
              "      <td>0.000804</td>\n",
              "    </tr>\n",
              "  </tbody>\n",
              "</table>\n",
              "<p>2469 rows × 2 columns</p>\n",
              "</div>\n",
              "      <button class=\"colab-df-convert\" onclick=\"convertToInteractive('df-cdbd326d-d2f6-401a-a7b3-b3d34011c31b')\"\n",
              "              title=\"Convert this dataframe to an interactive table.\"\n",
              "              style=\"display:none;\">\n",
              "        \n",
              "  <svg xmlns=\"http://www.w3.org/2000/svg\" height=\"24px\"viewBox=\"0 0 24 24\"\n",
              "       width=\"24px\">\n",
              "    <path d=\"M0 0h24v24H0V0z\" fill=\"none\"/>\n",
              "    <path d=\"M18.56 5.44l.94 2.06.94-2.06 2.06-.94-2.06-.94-.94-2.06-.94 2.06-2.06.94zm-11 1L8.5 8.5l.94-2.06 2.06-.94-2.06-.94L8.5 2.5l-.94 2.06-2.06.94zm10 10l.94 2.06.94-2.06 2.06-.94-2.06-.94-.94-2.06-.94 2.06-2.06.94z\"/><path d=\"M17.41 7.96l-1.37-1.37c-.4-.4-.92-.59-1.43-.59-.52 0-1.04.2-1.43.59L10.3 9.45l-7.72 7.72c-.78.78-.78 2.05 0 2.83L4 21.41c.39.39.9.59 1.41.59.51 0 1.02-.2 1.41-.59l7.78-7.78 2.81-2.81c.8-.78.8-2.07 0-2.86zM5.41 20L4 18.59l7.72-7.72 1.47 1.35L5.41 20z\"/>\n",
              "  </svg>\n",
              "      </button>\n",
              "      \n",
              "  <style>\n",
              "    .colab-df-container {\n",
              "      display:flex;\n",
              "      flex-wrap:wrap;\n",
              "      gap: 12px;\n",
              "    }\n",
              "\n",
              "    .colab-df-convert {\n",
              "      background-color: #E8F0FE;\n",
              "      border: none;\n",
              "      border-radius: 50%;\n",
              "      cursor: pointer;\n",
              "      display: none;\n",
              "      fill: #1967D2;\n",
              "      height: 32px;\n",
              "      padding: 0 0 0 0;\n",
              "      width: 32px;\n",
              "    }\n",
              "\n",
              "    .colab-df-convert:hover {\n",
              "      background-color: #E2EBFA;\n",
              "      box-shadow: 0px 1px 2px rgba(60, 64, 67, 0.3), 0px 1px 3px 1px rgba(60, 64, 67, 0.15);\n",
              "      fill: #174EA6;\n",
              "    }\n",
              "\n",
              "    [theme=dark] .colab-df-convert {\n",
              "      background-color: #3B4455;\n",
              "      fill: #D2E3FC;\n",
              "    }\n",
              "\n",
              "    [theme=dark] .colab-df-convert:hover {\n",
              "      background-color: #434B5C;\n",
              "      box-shadow: 0px 1px 3px 1px rgba(0, 0, 0, 0.15);\n",
              "      filter: drop-shadow(0px 1px 2px rgba(0, 0, 0, 0.3));\n",
              "      fill: #FFFFFF;\n",
              "    }\n",
              "  </style>\n",
              "\n",
              "      <script>\n",
              "        const buttonEl =\n",
              "          document.querySelector('#df-cdbd326d-d2f6-401a-a7b3-b3d34011c31b button.colab-df-convert');\n",
              "        buttonEl.style.display =\n",
              "          google.colab.kernel.accessAllowed ? 'block' : 'none';\n",
              "\n",
              "        async function convertToInteractive(key) {\n",
              "          const element = document.querySelector('#df-cdbd326d-d2f6-401a-a7b3-b3d34011c31b');\n",
              "          const dataTable =\n",
              "            await google.colab.kernel.invokeFunction('convertToInteractive',\n",
              "                                                     [key], {});\n",
              "          if (!dataTable) return;\n",
              "\n",
              "          const docLinkHtml = 'Like what you see? Visit the ' +\n",
              "            '<a target=\"_blank\" href=https://colab.research.google.com/notebooks/data_table.ipynb>data table notebook</a>'\n",
              "            + ' to learn more about interactive tables.';\n",
              "          element.innerHTML = '';\n",
              "          dataTable['output_type'] = 'display_data';\n",
              "          await google.colab.output.renderOutput(dataTable, element);\n",
              "          const docLink = document.createElement('div');\n",
              "          docLink.innerHTML = docLinkHtml;\n",
              "          element.appendChild(docLink);\n",
              "        }\n",
              "      </script>\n",
              "    </div>\n",
              "  </div>\n",
              "  "
            ]
          },
          "metadata": {},
          "execution_count": 36
        }
      ],
      "source": [
        "# prepare submission:\n",
        "submission = pd.DataFrame()\n",
        "submission['id'] = data_test['id']\n",
        "submission['match'] = random_search.predict_proba(data_test)[:,1]\n",
        "submission.to_csv('sample_submission_walkthrough_random_search.csv', index=False)\n",
        "submission"
      ]
    },
    {
      "cell_type": "code",
      "execution_count": 17,
      "metadata": {
        "id": "DUKsel3BRWRQ",
        "colab": {
          "base_uri": "https://localhost:8080/"
        },
        "outputId": "e258f458-03a4-4235-d778-d0f487564077"
      },
      "outputs": [
        {
          "metadata": {
            "tags": null
          },
          "name": "stdout",
          "output_type": "stream",
          "text": [
            "Fitting 5 folds for each of 1 candidates, totalling 5 fits\n",
            "[CV 1/5] END my_svc__C=3.1291518524476603, my_svc__degree=7, my_svc__gamma=0.4021497227847272, my_svc__kernel=poly, my_svc__probability=True;, score=0.836 total time=  48.0s\n",
            "[CV 2/5] END my_svc__C=3.1291518524476603, my_svc__degree=7, my_svc__gamma=0.4021497227847272, my_svc__kernel=poly, my_svc__probability=True;, score=0.820 total time=  46.6s\n",
            "[CV 3/5] END my_svc__C=3.1291518524476603, my_svc__degree=7, my_svc__gamma=0.4021497227847272, my_svc__kernel=poly, my_svc__probability=True;, score=0.821 total time=  46.4s\n",
            "[CV 4/5] END my_svc__C=3.1291518524476603, my_svc__degree=7, my_svc__gamma=0.4021497227847272, my_svc__kernel=poly, my_svc__probability=True;, score=0.825 total time=  50.0s\n",
            "[CV 5/5] END my_svc__C=3.1291518524476603, my_svc__degree=7, my_svc__gamma=0.4021497227847272, my_svc__kernel=poly, my_svc__probability=True;, score=0.828 total time=  46.2s\n"
          ]
        },
        {
          "output_type": "execute_result",
          "data": {
            "text/plain": [
              "BayesSearchCV(estimator=Pipeline(steps=[('preprocessor',\n",
              "                                         ColumnTransformer(transformers=[('num',\n",
              "                                                                          Pipeline(steps=[('imputer',\n",
              "                                                                                           SimpleImputer()),\n",
              "                                                                                          ('scaler',\n",
              "                                                                                           StandardScaler())]),\n",
              "                                                                          ['positin1',\n",
              "                                                                           'pid',\n",
              "                                                                           'int_corr',\n",
              "                                                                           'age_o',\n",
              "                                                                           'race_o',\n",
              "                                                                           'pf_o_att',\n",
              "                                                                           'pf_o_sin',\n",
              "                                                                           'pf_o_int',\n",
              "                                                                           'pf_o_fun',\n",
              "                                                                           'pf_o_amb',\n",
              "                                                                           'pf_o_sha',\n",
              "                                                                           'attr_o',\n",
              "                                                                           'sinc_o',\n",
              "                                                                           'intel_o',\n",
              "                                                                           'fun_o',\n",
              "                                                                           'amb_o',\n",
              "                                                                           'shar_o',\n",
              "                                                                           'like_o',\n",
              "                                                                           'prob_o...\n",
              "              search_spaces={'my_svc__C': Real(low=1e-08, high=100000000.0, prior='log-uniform', transform='normalize'),\n",
              "                             'my_svc__degree': Integer(low=1, high=10, prior='uniform', transform='normalize'),\n",
              "                             'my_svc__gamma': Real(low=1e-06, high=1000.0, prior='log-uniform', transform='normalize'),\n",
              "                             'my_svc__kernel': Categorical(categories=('linear', 'poly', 'rbf'), prior=None),\n",
              "                             'my_svc__probability': [True]},\n",
              "              verbose=3)"
            ]
          },
          "metadata": {},
          "execution_count": 17
        }
      ],
      "source": [
        "from skopt import BayesSearchCV\n",
        "from skopt.space import Real, Categorical, Integer\n",
        "from sklearn.svm import SVC\n",
        "\n",
        "\n",
        "SVC_pipline = Pipeline(\n",
        "    steps=[\n",
        "        ('preprocessor', preprocessor),\n",
        "        ('my_svc', SVC(class_weight='balanced'))\n",
        "    ]\n",
        ")\n",
        "# SVC has a class_weight attribute for unbalanced data\n",
        "\n",
        "\n",
        "# define ranges for bayes search\n",
        "bayes_search = BayesSearchCV(\n",
        "    SVC_pipline,\n",
        "    {\n",
        "        'my_svc__C': Real(1e-8, 1e+8, prior='log-uniform'),\n",
        "        'my_svc__gamma': Real(1e-6, 1e+3, prior='log-uniform'),\n",
        "        'my_svc__degree': Integer(1,10),\n",
        "        'my_svc__kernel': Categorical(['linear', 'poly', 'rbf']),\n",
        "        'my_svc__probability': [True]\n",
        "    },\n",
        "    n_iter=1,\n",
        "    random_state=0,\n",
        "    verbose=3,\n",
        ")\n",
        "\n",
        "bayes_search.fit(x, y)\n",
        "\n"
      ]
    },
    {
      "cell_type": "code",
      "execution_count": 18,
      "metadata": {
        "id": "ZUxGWt-ERWRT",
        "colab": {
          "base_uri": "https://localhost:8080/"
        },
        "outputId": "eb3f649f-01d4-4a58-f1d6-49a27aca17d8"
      },
      "outputs": [
        {
          "output_type": "stream",
          "name": "stdout",
          "text": [
            "best score 0.825859240570167\n",
            "best score OrderedDict([('my_svc__C', 3.1291518524476603), ('my_svc__degree', 7), ('my_svc__gamma', 0.4021497227847272), ('my_svc__kernel', 'poly'), ('my_svc__probability', True)])\n"
          ]
        }
      ],
      "source": [
        "print('best score {}'.format(bayes_search.best_score_))\n",
        "print('best score {}'.format(bayes_search.best_params_))"
      ]
    },
    {
      "cell_type": "code",
      "execution_count": 19,
      "metadata": {
        "id": "9Em-vjnZRWRU",
        "colab": {
          "base_uri": "https://localhost:8080/"
        },
        "outputId": "80a7d1d9-c67a-4308-a912-dbd20dede2ac"
      },
      "outputs": [
        {
          "output_type": "stream",
          "name": "stdout",
          "text": [
            "all the cv scores\n",
            "{'mean_fit_time': array([46.13990574]),\n",
            " 'mean_score_time': array([1.30842395]),\n",
            " 'mean_test_score': array([0.82585924]),\n",
            " 'param_my_svc__C': masked_array(data=[3.1291518524476603],\n",
            "             mask=[False],\n",
            "       fill_value='?',\n",
            "            dtype=object),\n",
            " 'param_my_svc__degree': masked_array(data=[7],\n",
            "             mask=[False],\n",
            "       fill_value='?',\n",
            "            dtype=object),\n",
            " 'param_my_svc__gamma': masked_array(data=[0.4021497227847272],\n",
            "             mask=[False],\n",
            "       fill_value='?',\n",
            "            dtype=object),\n",
            " 'param_my_svc__kernel': masked_array(data=['poly'],\n",
            "             mask=[False],\n",
            "       fill_value='?',\n",
            "            dtype=object),\n",
            " 'param_my_svc__probability': masked_array(data=[True],\n",
            "             mask=[False],\n",
            "       fill_value='?',\n",
            "            dtype=object),\n",
            " 'params': [OrderedDict([('my_svc__C', 3.1291518524476603),\n",
            "                         ('my_svc__degree', 7),\n",
            "                         ('my_svc__gamma', 0.4021497227847272),\n",
            "                         ('my_svc__kernel', 'poly'),\n",
            "                         ('my_svc__probability', True)])],\n",
            " 'rank_test_score': array([1], dtype=int32),\n",
            " 'split0_test_score': array([0.8358714]),\n",
            " 'split1_test_score': array([0.81979695]),\n",
            " 'split2_test_score': array([0.82064298]),\n",
            " 'split3_test_score': array([0.8248731]),\n",
            " 'split4_test_score': array([0.82811177]),\n",
            " 'std_fit_time': array([1.42331418]),\n",
            " 'std_score_time': array([0.09007888]),\n",
            " 'std_test_score': array([0.00583525])}\n"
          ]
        }
      ],
      "source": [
        "print('all the cv scores')\n",
        "pprint(bayes_search.cv_results_)"
      ]
    },
    {
      "cell_type": "code",
      "execution_count": 20,
      "metadata": {
        "id": "5dHsvihcRWRW",
        "colab": {
          "base_uri": "https://localhost:8080/",
          "height": 424
        },
        "outputId": "79faa74c-deff-42c8-8c78-1b0924a34d97"
      },
      "outputs": [
        {
          "output_type": "execute_result",
          "data": {
            "text/plain": [
              "        id     match\n",
              "0      934  0.118564\n",
              "1     6539  0.394682\n",
              "2     6757  0.115056\n",
              "3     2275  0.137783\n",
              "4     1052  0.099068\n",
              "...    ...       ...\n",
              "2464  7982  0.104989\n",
              "2465  7299  0.341948\n",
              "2466  1818  0.171885\n",
              "2467   937  0.064029\n",
              "2468  6691  0.106055\n",
              "\n",
              "[2469 rows x 2 columns]"
            ],
            "text/html": [
              "\n",
              "  <div id=\"df-2bb3f45a-fd0d-40fb-91c7-6087b7a24f3b\">\n",
              "    <div class=\"colab-df-container\">\n",
              "      <div>\n",
              "<style scoped>\n",
              "    .dataframe tbody tr th:only-of-type {\n",
              "        vertical-align: middle;\n",
              "    }\n",
              "\n",
              "    .dataframe tbody tr th {\n",
              "        vertical-align: top;\n",
              "    }\n",
              "\n",
              "    .dataframe thead th {\n",
              "        text-align: right;\n",
              "    }\n",
              "</style>\n",
              "<table border=\"1\" class=\"dataframe\">\n",
              "  <thead>\n",
              "    <tr style=\"text-align: right;\">\n",
              "      <th></th>\n",
              "      <th>id</th>\n",
              "      <th>match</th>\n",
              "    </tr>\n",
              "  </thead>\n",
              "  <tbody>\n",
              "    <tr>\n",
              "      <th>0</th>\n",
              "      <td>934</td>\n",
              "      <td>0.118564</td>\n",
              "    </tr>\n",
              "    <tr>\n",
              "      <th>1</th>\n",
              "      <td>6539</td>\n",
              "      <td>0.394682</td>\n",
              "    </tr>\n",
              "    <tr>\n",
              "      <th>2</th>\n",
              "      <td>6757</td>\n",
              "      <td>0.115056</td>\n",
              "    </tr>\n",
              "    <tr>\n",
              "      <th>3</th>\n",
              "      <td>2275</td>\n",
              "      <td>0.137783</td>\n",
              "    </tr>\n",
              "    <tr>\n",
              "      <th>4</th>\n",
              "      <td>1052</td>\n",
              "      <td>0.099068</td>\n",
              "    </tr>\n",
              "    <tr>\n",
              "      <th>...</th>\n",
              "      <td>...</td>\n",
              "      <td>...</td>\n",
              "    </tr>\n",
              "    <tr>\n",
              "      <th>2464</th>\n",
              "      <td>7982</td>\n",
              "      <td>0.104989</td>\n",
              "    </tr>\n",
              "    <tr>\n",
              "      <th>2465</th>\n",
              "      <td>7299</td>\n",
              "      <td>0.341948</td>\n",
              "    </tr>\n",
              "    <tr>\n",
              "      <th>2466</th>\n",
              "      <td>1818</td>\n",
              "      <td>0.171885</td>\n",
              "    </tr>\n",
              "    <tr>\n",
              "      <th>2467</th>\n",
              "      <td>937</td>\n",
              "      <td>0.064029</td>\n",
              "    </tr>\n",
              "    <tr>\n",
              "      <th>2468</th>\n",
              "      <td>6691</td>\n",
              "      <td>0.106055</td>\n",
              "    </tr>\n",
              "  </tbody>\n",
              "</table>\n",
              "<p>2469 rows × 2 columns</p>\n",
              "</div>\n",
              "      <button class=\"colab-df-convert\" onclick=\"convertToInteractive('df-2bb3f45a-fd0d-40fb-91c7-6087b7a24f3b')\"\n",
              "              title=\"Convert this dataframe to an interactive table.\"\n",
              "              style=\"display:none;\">\n",
              "        \n",
              "  <svg xmlns=\"http://www.w3.org/2000/svg\" height=\"24px\"viewBox=\"0 0 24 24\"\n",
              "       width=\"24px\">\n",
              "    <path d=\"M0 0h24v24H0V0z\" fill=\"none\"/>\n",
              "    <path d=\"M18.56 5.44l.94 2.06.94-2.06 2.06-.94-2.06-.94-.94-2.06-.94 2.06-2.06.94zm-11 1L8.5 8.5l.94-2.06 2.06-.94-2.06-.94L8.5 2.5l-.94 2.06-2.06.94zm10 10l.94 2.06.94-2.06 2.06-.94-2.06-.94-.94-2.06-.94 2.06-2.06.94z\"/><path d=\"M17.41 7.96l-1.37-1.37c-.4-.4-.92-.59-1.43-.59-.52 0-1.04.2-1.43.59L10.3 9.45l-7.72 7.72c-.78.78-.78 2.05 0 2.83L4 21.41c.39.39.9.59 1.41.59.51 0 1.02-.2 1.41-.59l7.78-7.78 2.81-2.81c.8-.78.8-2.07 0-2.86zM5.41 20L4 18.59l7.72-7.72 1.47 1.35L5.41 20z\"/>\n",
              "  </svg>\n",
              "      </button>\n",
              "      \n",
              "  <style>\n",
              "    .colab-df-container {\n",
              "      display:flex;\n",
              "      flex-wrap:wrap;\n",
              "      gap: 12px;\n",
              "    }\n",
              "\n",
              "    .colab-df-convert {\n",
              "      background-color: #E8F0FE;\n",
              "      border: none;\n",
              "      border-radius: 50%;\n",
              "      cursor: pointer;\n",
              "      display: none;\n",
              "      fill: #1967D2;\n",
              "      height: 32px;\n",
              "      padding: 0 0 0 0;\n",
              "      width: 32px;\n",
              "    }\n",
              "\n",
              "    .colab-df-convert:hover {\n",
              "      background-color: #E2EBFA;\n",
              "      box-shadow: 0px 1px 2px rgba(60, 64, 67, 0.3), 0px 1px 3px 1px rgba(60, 64, 67, 0.15);\n",
              "      fill: #174EA6;\n",
              "    }\n",
              "\n",
              "    [theme=dark] .colab-df-convert {\n",
              "      background-color: #3B4455;\n",
              "      fill: #D2E3FC;\n",
              "    }\n",
              "\n",
              "    [theme=dark] .colab-df-convert:hover {\n",
              "      background-color: #434B5C;\n",
              "      box-shadow: 0px 1px 3px 1px rgba(0, 0, 0, 0.15);\n",
              "      filter: drop-shadow(0px 1px 2px rgba(0, 0, 0, 0.3));\n",
              "      fill: #FFFFFF;\n",
              "    }\n",
              "  </style>\n",
              "\n",
              "      <script>\n",
              "        const buttonEl =\n",
              "          document.querySelector('#df-2bb3f45a-fd0d-40fb-91c7-6087b7a24f3b button.colab-df-convert');\n",
              "        buttonEl.style.display =\n",
              "          google.colab.kernel.accessAllowed ? 'block' : 'none';\n",
              "\n",
              "        async function convertToInteractive(key) {\n",
              "          const element = document.querySelector('#df-2bb3f45a-fd0d-40fb-91c7-6087b7a24f3b');\n",
              "          const dataTable =\n",
              "            await google.colab.kernel.invokeFunction('convertToInteractive',\n",
              "                                                     [key], {});\n",
              "          if (!dataTable) return;\n",
              "\n",
              "          const docLinkHtml = 'Like what you see? Visit the ' +\n",
              "            '<a target=\"_blank\" href=https://colab.research.google.com/notebooks/data_table.ipynb>data table notebook</a>'\n",
              "            + ' to learn more about interactive tables.';\n",
              "          element.innerHTML = '';\n",
              "          dataTable['output_type'] = 'display_data';\n",
              "          await google.colab.output.renderOutput(dataTable, element);\n",
              "          const docLink = document.createElement('div');\n",
              "          docLink.innerHTML = docLinkHtml;\n",
              "          element.appendChild(docLink);\n",
              "        }\n",
              "      </script>\n",
              "    </div>\n",
              "  </div>\n",
              "  "
            ]
          },
          "metadata": {},
          "execution_count": 20
        }
      ],
      "source": [
        "# prepare submission:\n",
        "submission = pd.DataFrame()\n",
        "submission['id'] = data_test['id']\n",
        "submission['match'] = bayes_search.predict_proba(data_test)[:,1]\n",
        "submission.to_csv('sample_submission_walkthrough_bayes_search.csv', index=False)\n",
        "submission"
      ]
    }
  ],
  "metadata": {
    "colab": {
      "provenance": []
    },
    "kernelspec": {
      "display_name": "Python 3",
      "language": "python",
      "name": "python3"
    },
    "language_info": {
      "codemirror_mode": {
        "name": "ipython",
        "version": 3
      },
      "file_extension": ".py",
      "mimetype": "text/x-python",
      "name": "python",
      "nbconvert_exporter": "python",
      "pygments_lexer": "ipython3",
      "version": "3.7.8"
    }
  },
  "nbformat": 4,
  "nbformat_minor": 0
}